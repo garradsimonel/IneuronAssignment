{
  "nbformat": 4,
  "nbformat_minor": 0,
  "metadata": {
    "colab": {
      "name": "Numpy assignment.ipynb",
      "provenance": [],
      "authorship_tag": "ABX9TyP+eD/7FqlKDQioUtfuq5I8",
      "include_colab_link": true
    },
    "kernelspec": {
      "name": "python3",
      "display_name": "Python 3"
    }
  },
  "cells": [
    {
      "cell_type": "markdown",
      "metadata": {
        "id": "view-in-github",
        "colab_type": "text"
      },
      "source": [
        "<a href=\"https://colab.research.google.com/github/garradsimonel/IneuronAssignment/blob/main/Numpy_assignment.ipynb\" target=\"_parent\"><img src=\"https://colab.research.google.com/assets/colab-badge.svg\" alt=\"Open In Colab\"/></a>"
      ]
    },
    {
      "cell_type": "markdown",
      "metadata": {
        "id": "FfrZuRJcAZZP"
      },
      "source": [
        "Write a function so that the columns of the output matrix are powers of the input vector.\r\n"
      ]
    },
    {
      "cell_type": "code",
      "metadata": {
        "colab": {
          "base_uri": "https://localhost:8080/"
        },
        "id": "3_D5qpwMAEiE",
        "outputId": "8432718e-690a-4dbb-e438-a13f60fd049f"
      },
      "source": [
        "import numpy as np\r\n",
        "from numpy.random import randint as ri\r\n",
        "mat=ri(1,10,(5,5))\r\n",
        "mat"
      ],
      "execution_count": 1,
      "outputs": [
        {
          "output_type": "execute_result",
          "data": {
            "text/plain": [
              "array([[8, 5, 3, 3, 8],\n",
              "       [6, 5, 7, 8, 5],\n",
              "       [6, 9, 4, 3, 1],\n",
              "       [3, 8, 2, 2, 7],\n",
              "       [6, 4, 5, 5, 2]])"
            ]
          },
          "metadata": {
            "tags": []
          },
          "execution_count": 1
        }
      ]
    },
    {
      "cell_type": "code",
      "metadata": {
        "colab": {
          "base_uri": "https://localhost:8080/"
        },
        "id": "C5urRLS1AeyR",
        "outputId": "41b06ac5-13e8-4507-df7c-73d0a07a3647"
      },
      "source": [
        "print(\"The output matrix will be powers of the Input matrix\\n-------------\\n\",pow(mat,3))"
      ],
      "execution_count": 2,
      "outputs": [
        {
          "output_type": "stream",
          "text": [
            "The output matrix will be powers of the Input matrix\n",
            "-------------\n",
            " [[512 125  27  27 512]\n",
            " [216 125 343 512 125]\n",
            " [216 729  64  27   1]\n",
            " [ 27 512   8   8 343]\n",
            " [216  64 125 125   8]]\n"
          ],
          "name": "stdout"
        }
      ]
    },
    {
      "cell_type": "markdown",
      "metadata": {
        "id": "2vd0EvOYAnA_"
      },
      "source": [
        "Write a function to find moving average in an array over a window:\r\n",
        "Test it over [3, 5, 7, 2, 8, 10, 11, 65, 72, 81, 99, 100, 150] and window of 3."
      ]
    },
    {
      "cell_type": "code",
      "metadata": {
        "id": "qXLEwZY0Ajr0"
      },
      "source": [
        "input=np.array([3, 5, 7, 2, 8, 10, 11, 65, 72, 81, 99, 100, 150])\r\n",
        "def movingavg(arr1,k):\r\n",
        "  for j in range(0,arr1.size-k+1):\r\n",
        "      yj=(j+(j+1)+(j+2)+(j+3))/k\r\n",
        "      print(\"y\",j,\":\",yj,\"\\n\")\r\n",
        "     \r\n",
        "  "
      ],
      "execution_count": 3,
      "outputs": []
    },
    {
      "cell_type": "code",
      "metadata": {
        "colab": {
          "base_uri": "https://localhost:8080/"
        },
        "id": "2hRk_G7HAsGf",
        "outputId": "d6203b71-cc95-4e2e-b1bc-2c79db15004a"
      },
      "source": [
        "movingavg(input,3)"
      ],
      "execution_count": 4,
      "outputs": [
        {
          "output_type": "stream",
          "text": [
            "y 0 : 2.0 \n",
            "\n",
            "y 1 : 3.3333333333333335 \n",
            "\n",
            "y 2 : 4.666666666666667 \n",
            "\n",
            "y 3 : 6.0 \n",
            "\n",
            "y 4 : 7.333333333333333 \n",
            "\n",
            "y 5 : 8.666666666666666 \n",
            "\n",
            "y 6 : 10.0 \n",
            "\n",
            "y 7 : 11.333333333333334 \n",
            "\n",
            "y 8 : 12.666666666666666 \n",
            "\n",
            "y 9 : 14.0 \n",
            "\n",
            "y 10 : 15.333333333333334 \n",
            "\n"
          ],
          "name": "stdout"
        }
      ]
    },
    {
      "cell_type": "code",
      "metadata": {
        "id": "3o417RngAw1z"
      },
      "source": [
        ""
      ],
      "execution_count": null,
      "outputs": []
    }
  ]
}